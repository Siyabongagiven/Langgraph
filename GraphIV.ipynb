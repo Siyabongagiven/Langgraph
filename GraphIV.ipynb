{
 "cells": [
  {
   "cell_type": "code",
   "execution_count": 13,
   "id": "70929f6a",
   "metadata": {},
   "outputs": [],
   "source": [
    "from IPython.display import Image,display\n",
    "from typing import TypedDict, List\n",
    "from langgraph.graph import StateGraph,START,END\n"
   ]
  },
  {
   "cell_type": "code",
   "execution_count": null,
   "id": "0b17b3cd",
   "metadata": {},
   "outputs": [],
   "source": [
    "class AgentState(TypedDict):\n",
    "    number1 : int\n",
    "    operation : str\n",
    "    number2 : int\n",
    "    finalNumber : int"
   ]
  },
  {
   "cell_type": "code",
   "execution_count": null,
   "id": "94e49b8f",
   "metadata": {},
   "outputs": [],
   "source": [
    "def Adder(state:AgentState)->AgentState:\n",
    "    \"\"\" this none adds the 2 numbers\"\"\"\n",
    "\n",
    "    state['finalNumber'] = state['number1'] + state['number2']\n",
    "\n",
    "    return state\n",
    "\n",
    "def Subtractor(state:AgentState)->AgentState:\n",
    "    \"\"\" this none subtract the 2 numbers\"\"\"\n",
    "\n",
    "    state['finalNumber'] = state['number1'] - state['number2']\n",
    "\n",
    "    return state\n",
    "\n",
    "def decide_next_note(state:AgentState) -> AgentState:\n",
    "    \"\"\"This note will select the next node of the graph\"\"\"\n",
    "\n",
    "    if state['operation'] == \"+\":\n",
    "        return \"addition_operation\" #returns the edge\n",
    "\n",
    "    elif state['operation'] == \"-\":\n",
    "        return \"subtraction_operation\""
   ]
  },
  {
   "cell_type": "code",
   "execution_count": null,
   "id": "4cc7ca62",
   "metadata": {},
   "outputs": [],
   "source": [
    "graph  = StateGraph(AgentState)\n",
    "\n",
    "graph.add_node(\"add_node\",Adder)\n",
    "graph.add_node(\"subtraction_node\",Subtractor)\n",
    "graph.add_node(\"router\",lambda state:state) #passthrough function\n",
    "graph.add_edge(START,\"router\")\n",
    "graph.add_conditional_edges(\n",
    "    \"router\",\n",
    "    decide_next_note,\n",
    "    {\n",
    "        # Edge : Node\n",
    "        \"addition_operation\":\"add_node\",\n",
    "        \"subtraction_operation\":\"subtraction_node\"\n",
    "    }\n",
    ")\n",
    "\n",
    "graph.add_edge(\"add_node\",END)\n",
    "graph.add_edge(\"subtraction_node\",END)\n",
    "\n",
    "app = graph.compile()"
   ]
  },
  {
   "cell_type": "code",
   "execution_count": null,
   "id": "413e4b1f",
   "metadata": {},
   "outputs": [],
   "source": [
    "display(Image(app.get_graph().draw_mermaid_png()))"
   ]
  },
  {
   "cell_type": "code",
   "execution_count": null,
   "id": "d4eb0b76",
   "metadata": {},
   "outputs": [],
   "source": [
    "test = AgentState(number1=10 , number2= 5 , operation=\"+\") # type: ignore\n",
    "app.invoke(test)"
   ]
  },
  {
   "cell_type": "markdown",
   "id": "356e2fc0",
   "metadata": {},
   "source": [
    "# Excercise"
   ]
  },
  {
   "cell_type": "code",
   "execution_count": 15,
   "id": "00ee564b",
   "metadata": {},
   "outputs": [],
   "source": [
    "class AgentState(TypedDict):\n",
    "    number1 : int\n",
    "    number2 : int\n",
    "    number3 : int\n",
    "    number4 : int\n",
    "    operation1 : str\n",
    "    operation2 : str\n",
    "    finalnumber1 :int\n",
    "    finalnumber2 : int"
   ]
  },
  {
   "cell_type": "code",
   "execution_count": 16,
   "id": "d6896efe",
   "metadata": {},
   "outputs": [],
   "source": [
    "def add_node_1(state:AgentState)-> AgentState:\n",
    "    \"\"\"This function adds the two nubers \"\"\"\n",
    "\n",
    "    state[\"finalnumber1\"] = state[\"number1\"] + state[\"number2\"]\n",
    "    return state\n",
    "def add_node_2(state:AgentState)-> AgentState:\n",
    "    \"\"\"This function adds the two nubers \"\"\"\n",
    "\n",
    "    state[\"finalnumber2\"] = state[\"number3\"] + state[\"number4\"]\n",
    "    return state\n",
    "\n",
    "def subtractor_node_1(state:AgentState)-> AgentState:\n",
    "    \"\"\"This function subtracts the two nubers \"\"\"\n",
    "\n",
    "    state[\"finalnumber1\"] = state[\"number1\"] - state[\"number2\"]\n",
    "    return state\n",
    "\n",
    "def subtractor_node_2(state:AgentState)-> AgentState:\n",
    "    \"\"\"This function subtracts the two nubers \"\"\"\n",
    "\n",
    "    state[\"finalnumber2\"] = state[\"number3\"] - state[\"number4\"]\n",
    "    return state\n",
    "\n",
    "def router_node_1(state:AgentState)->AgentState:\n",
    "    \"\"\"This function routs to the correct node and returns an edge\"\"\"\n",
    "    if state[\"operation1\"] == \"+\":\n",
    "        return \"adder_operation1\"\n",
    "    if state[\"operation1\"] == \"-\":\n",
    "        return \"subtraction_operation1\"\n",
    "    \n",
    "def router_node_2(state:AgentState)->AgentState:\n",
    "    \"\"\"This function routs to the correct node and returns an edge\"\"\"\n",
    "    if state[\"operation2\"] == \"+\":\n",
    "        return \"adder_operation2\"\n",
    "    if state[\"operation2\"] == \"-\":\n",
    "        return \"subtraction_operation2\""
   ]
  },
  {
   "cell_type": "code",
   "execution_count": null,
   "id": "2f46534d",
   "metadata": {},
   "outputs": [],
   "source": [
    "graph = StateGraph(AgentState)\n",
    "\n",
    "graph.add_edge(START,\"router1\")\n",
    "graph.add_node(\"router1\",lambda state:state)\n",
    "graph.add_conditional_edges(\n",
    "    \"router1\",\n",
    "    router_node_1,\n",
    "    {\n",
    "        #Edge:node\n",
    "        \"adder_operation1\":\"adder_node1\",\n",
    "        \"subtraction_operation1\":\"subtraction_node1\"\n",
    "    }\n",
    ")\n",
    "graph.add_node(\"adder_node1\",add_node_1)\n",
    "graph.add_node(\"subtraction_node1\",subtractor_node_1)\n",
    "graph.add_edge(\"adder_node1\",\"router2\")\n",
    "graph.add_edge(\"subtraction_node1\",\"router2\")\n",
    "\n",
    "\n",
    "graph.add_node(\"router2\",lambda state:state) \n",
    "graph.add_conditional_edges(\n",
    "    \"router2\",\n",
    "    router_node_2,\n",
    "    {\n",
    "        #Edge:node\n",
    "        \"adder_operation2\":\"adder_node2\",\n",
    "        \"subtraction_operation2\":\"subtraction_node2\"\n",
    "    }\n",
    ")\n",
    "graph.add_node(\"adder_node2\",add_node_2)\n",
    "graph.add_node(\"subtraction_node2\",subtractor_node_2)\n",
    "graph.add_edge(\"adder_node2\",END)\n",
    "graph.add_edge(\"subtraction_node2\",END)\n",
    "\n",
    "app = graph.compile()"
   ]
  },
  {
   "cell_type": "code",
   "execution_count": 20,
   "id": "90cb9918",
   "metadata": {},
   "outputs": [
    {
     "data": {
      "image/png": "[encoded data removed]",
      "text/plain": [
       "<IPython.core.display.Image object>"
      ]
     },
     "metadata": {},
     "output_type": "display_data"
    }
   ],
   "source": [
    "display(Image(app.get_graph().draw_mermaid_png()))"
   ]
  },
  {
   "cell_type": "code",
   "execution_count": 19,
   "id": "127b5c83",
   "metadata": {},
   "outputs": [
    {
     "data": {
      "text/plain": [
       "{'number1': 10,\n",
       " 'number2': 5,\n",
       " 'number3': 7,\n",
       " 'number4': 2,\n",
       " 'operation1': '-',\n",
       " 'operation2': '+',\n",
       " 'finalnumber1': 5,\n",
       " 'finalnumber2': 9}"
      ]
     },
     "execution_count": 19,
     "metadata": {},
     "output_type": "execute_result"
    }
   ],
   "source": [
    "test = AgentState(number1 = 10,operation1 = \"-\",number2 = 5,number3 = 7,number4=2,operation2=\"+\",finalnumber1=0,finalnumber2=0)\n",
    "app.invoke(test)"
   ]
  }
 ],
 "metadata": {
  "kernelspec": {
   "display_name": "venv",
   "language": "python",
   "name": "python3"
  },
  "language_info": {
   "codemirror_mode": {
    "name": "ipython",
    "version": 3
   },
   "file_extension": ".py",
   "mimetype": "text/x-python",
   "name": "python",
   "nbconvert_exporter": "python",
   "pygments_lexer": "ipython3",
   "version": "3.13.0"
  }
 },
 "nbformat": 4,
 "nbformat_minor": 5
}
