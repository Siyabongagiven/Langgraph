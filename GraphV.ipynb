{
 "cells": [
  {
   "cell_type": "markdown",
   "id": "5e846390",
   "metadata": {},
   "source": [
    "# Looping Graph"
   ]
  },
  {
   "cell_type": "code",
   "execution_count": 1,
   "id": "b45fec39",
   "metadata": {},
   "outputs": [],
   "source": [
    "from IPython.display import Image,display\n",
    "from typing import TypedDict, List\n",
    "from langgraph.graph import StateGraph,START,END\n",
    "import random\n"
   ]
  },
  {
   "cell_type": "code",
   "execution_count": 2,
   "id": "bf5a23f2",
   "metadata": {},
   "outputs": [],
   "source": [
    "class AgentState(TypedDict):\n",
    "    name:str\n",
    "    number:list[int]\n",
    "    counter:int"
   ]
  },
  {
   "cell_type": "code",
   "execution_count": null,
   "id": "2ee3ba6e",
   "metadata": {},
   "outputs": [],
   "source": [
    "def greeting_node(state:AgentState)->AgentState:\n",
    "    \"\"\"Greeting Node which says hi to the person\"\"\"\n",
    "    state['name'] = f\"Hi there, {state['name']}\"\n",
    "    state['counter'] = 0\n",
    "\n",
    "    return state\n",
    "\n",
    "\n",
    "def randomn_node(state:AgentState)-> AgentState:\n",
    "    \"\"\"This function generates randomn numbers from 0 to 10\"\"\"\n",
    "    state['number'].append(random.randint(0,10))\n",
    "    state['counter']+=1\n",
    "\n",
    "    return state\n",
    "\n",
    "def should_continue(state:AgentState)->AgentState:\n",
    "    \"\"\"Function to decide what to do next\"\"\"\n",
    "    if state['counter'] < 5:\n",
    "        print(f'entering loop {state[\"counter\"]}')\n",
    "        return 'loop' # loop egde\n",
    "    else:\n",
    "        return 'exit' # exit edge"
   ]
  },
  {
   "cell_type": "code",
   "execution_count": 15,
   "id": "3da0f038",
   "metadata": {},
   "outputs": [],
   "source": [
    "graph = StateGraph(AgentState)\n",
    "\n",
    "graph.set_entry_point(\"greeting\")\n",
    "graph.add_node(\"greeting\",greeting_node)\n",
    "graph.add_edge(\"greeting\",\"random\")\n",
    "graph.add_node(\"random\",randomn_node)\n",
    "graph.add_conditional_edges(\n",
    "    \"random\",\n",
    "    should_continue,\n",
    "    {'loop':\"random\",\n",
    "    'exit':END}\n",
    ")\n",
    "\n",
    "app = graph.compile()\n",
    "\n"
   ]
  },
  {
   "cell_type": "code",
   "execution_count": 12,
   "id": "48da3d71",
   "metadata": {},
   "outputs": [
    {
     "data": {
      "image/png": "[encoded data removed]",
      "text/plain": [
       "<IPython.core.display.Image object>"
      ]
     },
     "metadata": {},
     "output_type": "display_data"
    }
   ],
   "source": [
    "display(Image(app.get_graph().draw_mermaid_png()))"
   ]
  },
  {
   "cell_type": "code",
   "execution_count": 13,
   "id": "eaf3b642",
   "metadata": {},
   "outputs": [
    {
     "name": "stdout",
     "output_type": "stream",
     "text": [
      "entering loop 0\n",
      "entering loop 1\n",
      "entering loop 2\n",
      "entering loop 3\n",
      "entering loop 4\n"
     ]
    },
    {
     "data": {
      "text/plain": [
       "{'name': 'Hi there, Siya', 'number': [8, 4, 6, 2, 0, 6], 'counter': 5}"
      ]
     },
     "execution_count": 13,
     "metadata": {},
     "output_type": "execute_result"
    }
   ],
   "source": [
    "test = AgentState(name=\"Siya\",number=[],counter=-1)\n",
    "app.invoke(test)"
   ]
  },
  {
   "cell_type": "markdown",
   "id": "a264139b",
   "metadata": {},
   "source": [
    "# Excercise"
   ]
  },
  {
   "cell_type": "code",
   "execution_count": 2,
   "id": "25f16e57",
   "metadata": {},
   "outputs": [],
   "source": [
    "class AgentState(TypedDict):\n",
    "    Player_name:str\n",
    "    guesses:list[int]\n",
    "    attempts:int\n",
    "    lower_bound:int\n",
    "    upper_bound:int\n",
    "    target:int\n",
    "    guess:int\n",
    "    hint:str"
   ]
  },
  {
   "cell_type": "code",
   "execution_count": 17,
   "id": "3c3dd4de",
   "metadata": {},
   "outputs": [],
   "source": [
    "def setup_node(state:AgentState)-> AgentState:\n",
    "    \"\"\"This function create the initial variable need for the game\"\"\"\n",
    "    state['target'] = random.randint(state['lower_bound'],state['upper_bound'])\n",
    "    state['guesses'] = []\n",
    "    state['attempts'] = 0\n",
    "    state['Player_name'] = f\"Hi {state['Player_name']}\"\n",
    "    return state\n",
    "\n",
    "def guess_node(state:AgentState)->AgentState:\n",
    "    \"\"\"This function makes the guess\"\"\"\n",
    "    state['guess'] = random.randint(state['lower_bound'],state['upper_bound'])\n",
    "    state['guesses'].append(state['guess'])\n",
    "    state['attempts']+=1\n",
    "    print(state['guess'])\n",
    "    print('guess made')\n",
    "    return state\n",
    "\n",
    "def hint_node(state:AgentState)->AgentState:\n",
    "    \"\"\"This function gives the hint wheter the guess is hihger or lower\"\"\"\n",
    "    if state['guess'] == state['target']:\n",
    "        state['hint'] = 'Correct'\n",
    "\n",
    "    elif state['guess'] > state['target']:\n",
    "        state['upper_bound'] = state['guess']\n",
    "        state['hint'] = 're-try'\n",
    "    \n",
    "    else:\n",
    "        state['lower_bound'] = state['guess']\n",
    "        state['hint'] = 're-try'\n",
    "\n",
    "    return state\n",
    "    \n",
    "\n",
    "def should_continue(state:AgentState)->AgentState:\n",
    "    \"\"\"This check whether to stop or continue\"\"\"\n",
    "    if state['attempts'] == 7:\n",
    "        print(\"max attempts stop\")\n",
    "        return 'end'\n",
    "    elif state['hint'] == 'Correct':\n",
    "        return 'end'\n",
    "    else:\n",
    "        print(\"re trying\")\n",
    "        return 'continue'\n",
    "    "
   ]
  },
  {
   "cell_type": "code",
   "execution_count": 18,
   "id": "d666b008",
   "metadata": {},
   "outputs": [],
   "source": [
    "graph = StateGraph(AgentState)\n",
    "\n",
    "graph.set_entry_point(\"setup\")\n",
    "graph.add_node('setup',setup_node)\n",
    "graph.add_edge('setup','play')\n",
    "graph.add_node('play',guess_node)\n",
    "graph.add_edge('play','hint_node')\n",
    "graph.add_node('hint_node',hint_node)\n",
    "graph.add_conditional_edges(\n",
    "    'hint_node',\n",
    "    should_continue,\n",
    "    {\n",
    "        #EGDE:NODE\n",
    "        'end':END,\n",
    "        'continue':\"play\"\n",
    "    }\n",
    ")\n",
    "\n",
    "app = graph.compile()"
   ]
  },
  {
   "cell_type": "code",
   "execution_count": 6,
   "id": "aa160021",
   "metadata": {},
   "outputs": [
    {
     "data": {
      "image/png": "[encoded data removed]",
      "text/plain": [
       "<IPython.core.display.Image object>"
      ]
     },
     "metadata": {},
     "output_type": "display_data"
    }
   ],
   "source": [
    "display(Image(app.get_graph().draw_mermaid_png()))"
   ]
  },
  {
   "cell_type": "code",
   "execution_count": 19,
   "id": "0dc2fa97",
   "metadata": {},
   "outputs": [
    {
     "name": "stdout",
     "output_type": "stream",
     "text": [
      "18\n",
      "guess made\n",
      "re trying\n",
      "14\n",
      "guess made\n",
      "re trying\n",
      "6\n",
      "guess made\n",
      "re trying\n",
      "11\n",
      "guess made\n",
      "re trying\n",
      "8\n",
      "guess made\n"
     ]
    },
    {
     "data": {
      "text/plain": [
       "{'Player_name': 'Hi Siya',\n",
       " 'guesses': [18, 14, 6, 11, 8],\n",
       " 'attempts': 5,\n",
       " 'lower_bound': 6,\n",
       " 'upper_bound': 11,\n",
       " 'target': 8,\n",
       " 'guess': 8,\n",
       " 'hint': 'Correct'}"
      ]
     },
     "execution_count": 19,
     "metadata": {},
     "output_type": "execute_result"
    }
   ],
   "source": [
    "test = AgentState(Player_name='Siya',guesses=[],attempts=0,lower_bound=1,upper_bound=20)\n",
    "\n",
    "app.invoke(test)"
   ]
  }
 ],
 "metadata": {
  "kernelspec": {
   "display_name": "venv",
   "language": "python",
   "name": "python3"
  },
  "language_info": {
   "codemirror_mode": {
    "name": "ipython",
    "version": 3
   },
   "file_extension": ".py",
   "mimetype": "text/x-python",
   "name": "python",
   "nbconvert_exporter": "python",
   "pygments_lexer": "ipython3",
   "version": "3.13.0"
  }
 },
 "nbformat": 4,
 "nbformat_minor": 5
}
